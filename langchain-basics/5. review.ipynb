{
 "cells": [
  {
   "cell_type": "code",
   "execution_count": 1,
   "id": "3c195d06",
   "metadata": {},
   "outputs": [],
   "source": [
    "from langchain_ollama import ChatOllama\n",
    "\n",
    "llm = ChatOllama(\n",
    "    model=\"llama3.2:1b\",\n",
    "    temperature=0,\n",
    "    # other_parameters={\"n\": 1},\n",
    ")"
   ]
  },
  {
   "cell_type": "code",
   "execution_count": 6,
   "id": "7dd56ddb",
   "metadata": {},
   "outputs": [],
   "source": [
    "# 음식 이름 찾기 \n",
    "from langchain_core.output_parsers import StrOutputParser\n",
    "from langchain_core.prompts import PromptTemplate\n",
    "\n",
    "food_prompt = PromptTemplate(\n",
    "    template=\"\"\"what is one of the most popular food in {country}?\n",
    "        Please return the name of the food only.\n",
    "        \"\"\",\n",
    "    input_variables=[\"country\"],\n",
    ")\n",
    "\n",
    "food_chain = food_prompt | llm | StrOutputParser()"
   ]
  },
  {
   "cell_type": "code",
   "execution_count": 7,
   "id": "716381a7",
   "metadata": {},
   "outputs": [
    {
     "data": {
      "text/plain": [
       "'Bibimbap.'"
      ]
     },
     "execution_count": 7,
     "metadata": {},
     "output_type": "execute_result"
    }
   ],
   "source": [
    "food_chain.invoke({\"country\": \"South Korea\"})"
   ]
  },
  {
   "cell_type": "code",
   "execution_count": 14,
   "id": "268b88ac",
   "metadata": {},
   "outputs": [],
   "source": [
    "from langchain_core.prompts import ChatPromptTemplate\n",
    "\n",
    "recipe_prompt = ChatPromptTemplate.from_messages([\n",
    "    (\"system\", \"\"\"Provide the recipe of the food that the user wants. \n",
    "    Please return the recipe only as a numbered list.\"\"\"),\n",
    "    (\"human\", \"Can you give me the recipe for making {food}?\"),\n",
    "])\n",
    "\n",
    "recipe_chain = recipe_prompt | llm | StrOutputParser()"
   ]
  },
  {
   "cell_type": "code",
   "execution_count": 16,
   "id": "459efd53",
   "metadata": {},
   "outputs": [
    {
     "data": {
      "text/plain": [
       "\"Here's a traditional Korean recipe for Bibimbap:\\n\\n**Servings:** 4-6 people\\n\\n**Ingredients:**\\n\\n1. **Rice**: 2 cups of white or brown rice, cooked according to package instructions\\n2. **Vegetables**:\\n\\t* 1 cup of bean sprouts\\n\\t* 1 cup of shredded zucchini\\n\\t* 1 cup of diced carrots\\n\\t* 1/2 cup of diced cucumber\\n\\t* 1/4 cup of chopped scallions (green onions)\\n3. **Meat/Protein**:\\n\\t* 1/2 cup of cooked beef (thinly sliced), such as ribeye or sirloin\\n\\t* 1/4 cup of fried egg, sliced\\n4. **Seasonings**:\\n\\t* 2 tablespoons of Gochujang (Korean chili paste)\\n\\t* 1 tablespoon of soy sauce\\n\\t* 1 tablespoon of sesame oil\\n\\t* Salt and pepper to taste\\n5. **Other**:\\n\\t* 2 tablespoons of vegetable oil\\n\\t* 1 teaspoon of grated ginger\\n\\n**Instructions:**\\n\\n1. Cook the rice according to package instructions.\\n2. In a separate pan, heat 1 tablespoon of vegetable oil over medium-high heat. Add the bean sprouts and cook until tender, about 3-4 minutes.\\n3. Add the shredded zucchini, diced carrots, and diced cucumber to the pan. Cook for an additional 2-3 minutes, or until the vegetables are tender-crisp.\\n4. In a small bowl, whisk together Gochujang, soy sauce, sesame oil, salt, and pepper. Pour the sauce over the cooked vegetables and stir-fry for 1 minute.\\n5. To assemble the Bibimbap, place a scoop of cooked rice in a bowl. Arrange the vegetables, meat, and sauce on top of the rice.\\n6. Place a fried egg on top of the dish and sprinkle with chopped scallions.\\n7. Serve immediately and enjoy!\\n\\n**Tips:**\\n\\n* Use a variety of colorful vegetables to make the dish visually appealing.\\n* Adjust the level of spiciness to your liking by adding more or less Gochujang.\\n* You can also add other ingredients, such as diced bell peppers or chopped kimchi, to the pan with the vegetables.\""
      ]
     },
     "execution_count": 16,
     "metadata": {},
     "output_type": "execute_result"
    }
   ],
   "source": [
    "recipe_chain.invoke({\"food\": \"Bibimbap\"})"
   ]
  },
  {
   "cell_type": "code",
   "execution_count": 17,
   "id": "df66840a",
   "metadata": {},
   "outputs": [],
   "source": [
    "final_chain = {'food': food_chain} | recipe_chain"
   ]
  },
  {
   "cell_type": "code",
   "execution_count": 18,
   "id": "09413e9a",
   "metadata": {},
   "outputs": [
    {
     "data": {
      "text/plain": [
       "\"Here's a classic recipe for making croissants:\\n\\n**Ingredients:**\\n\\nFor the dough:\\n\\n1. 1 cup warm milk (around 105°F to 115°F)\\n2. 1/4 cup granulated sugar\\n3. 2 teaspoons active dry yeast\\n4. 3 cups all-purpose flour\\n5. 1 teaspoon salt\\n6. 1/4 cup unsalted butter, melted\\n\\nFor the butter block:\\n\\n7. 1 cup (2 sticks) unsalted butter, softened\\n8. 1/2 cup confectioners' sugar\\n\\n**Instructions:**\\n\\n**Step 1: Make the dough**\\n\\n1. In a small bowl, combine warm milk and sugar. Sprinkle yeast over the mixture and let it sit for 5-10 minutes, until frothy.\\n2. In a large mixing bowl, whisk together flour, salt, and melted butter.\\n3. Add the yeast mixture to the dry ingredients and mix until a shaggy dough forms.\\n4. Knead the dough on a floured surface for 10-12 minutes, until smooth and elastic.\\n\\n**Step 2: Rest the dough**\\n\\n1. Place the dough in a lightly oiled bowl, cover it with plastic wrap, and let it rest in a warm place for 1 hour, or until doubled in size.\\n\\n**Step 3: Make the butter block**\\n\\n1. On a lightly floured surface, roll out the softened butter to a rectangle about 1/4-inch thick.\\n2. Brush the edges of the butter with confectioners' sugar.\\n\\n**Step 4: Laminate the dough**\\n\\n1. Roll out the rested dough to a large rectangle about 1/4-inch thick.\\n2. Place the butter block on top of the dough, making sure to align the edges.\\n3. Fold the dough over the butter, like a letter, so that the two long sides meet in the middle.\\n4. Rotate the dough 90 degrees, so that the folded edge is facing you.\\n5. Roll out the dough to a large rectangle about 1/4-inch thick.\\n\\n**Step 5: Cut and shape the croissants**\\n\\n1. Use a pastry cutter or a sharp knife to cut the dough into long, thin triangles.\\n2. Cut each triangle in half, so that you have a total of 16-20 triangles.\\n3. Roll each triangle into a croissant shape, starting from the wide end.\\n\\n**Step 6: Proof and bake**\\n\\n1. Place the croissants on a parchment-lined baking sheet, leaving about 1 inch of space between each one.\\n2. Cover with plastic wrap and let them proof in a warm place for 1-2 hours, or until doubled in size.\\n3. Preheat oven to 400°F (200°C).\\n4. Bake the croissants for 15-20 minutes, or until golden brown.\\n\\n**Tips:**\\n\\n* Keep the butter cold at all times.\\n* Don't overwork the dough or the butter block.\\n* Let the croissants proof long enough to develop a nice layer of gluten.\\n* Bake the croissants when they're still slightly soft in the center.\""
      ]
     },
     "execution_count": 18,
     "metadata": {},
     "output_type": "execute_result"
    }
   ],
   "source": [
    "final_chain.invoke({\"country\": \"France\"})"
   ]
  }
 ],
 "metadata": {
  "kernelspec": {
   "display_name": "3.11.14",
   "language": "python",
   "name": "python3"
  },
  "language_info": {
   "codemirror_mode": {
    "name": "ipython",
    "version": 3
   },
   "file_extension": ".py",
   "mimetype": "text/x-python",
   "name": "python",
   "nbconvert_exporter": "python",
   "pygments_lexer": "ipython3",
   "version": "3.11.14"
  }
 },
 "nbformat": 4,
 "nbformat_minor": 5
}
