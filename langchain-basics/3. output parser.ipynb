{
 "cells": [
  {
   "cell_type": "code",
   "execution_count": 2,
   "id": "32079102",
   "metadata": {},
   "outputs": [
    {
     "data": {
      "text/plain": [
       "AIMessage(content='The capital of France is Paris.', additional_kwargs={}, response_metadata={'model': 'llama3.2:1b', 'created_at': '2025-10-20T14:44:39.748885Z', 'done': True, 'done_reason': 'stop', 'total_duration': 1248452584, 'load_duration': 940656750, 'prompt_eval_count': 32, 'prompt_eval_duration': 223917875, 'eval_count': 8, 'eval_duration': 78302333, 'model_name': 'llama3.2:1b', 'model_provider': 'ollama'}, id='lc_run--7c2cc67c-6fd2-4fcc-836e-7c7d6401483d-0', usage_metadata={'input_tokens': 32, 'output_tokens': 8, 'total_tokens': 40})"
      ]
     },
     "execution_count": 2,
     "metadata": {},
     "output_type": "execute_result"
    }
   ],
   "source": [
    "from langchain_ollama import ChatOllama\n",
    "\n",
    "llm = ChatOllama(model=\"llama3.2:1b\")\n",
    "llm.invoke(\"What is the capital of France?\")"
   ]
  },
  {
   "cell_type": "code",
   "execution_count": null,
   "id": "a87b02e9",
   "metadata": {},
   "outputs": [],
   "source": []
  },
  {
   "cell_type": "code",
   "execution_count": 3,
   "id": "ab43bb93",
   "metadata": {},
   "outputs": [
    {
     "name": "stdout",
     "output_type": "stream",
     "text": [
      "text='What is the capital of France?'\n"
     ]
    }
   ],
   "source": [
    "from langchain_core.prompts import PromptTemplate\n",
    "\n",
    "prompt_template = PromptTemplate(\n",
    "    template=\"What is the capital of {country}?\",\n",
    "    input_variables=[\"country\"],\n",
    ")\n",
    "\n",
    "prompt = prompt_template.invoke({\"country\": \"France\"})\n",
    "\n",
    "print(prompt)"
   ]
  },
  {
   "cell_type": "code",
   "execution_count": 4,
   "id": "e85892c7",
   "metadata": {},
   "outputs": [
    {
     "name": "stdout",
     "output_type": "stream",
     "text": [
      "text='What is the capital of France?'\n"
     ]
    },
    {
     "data": {
      "text/plain": [
       "AIMessage(content='The capital of France is Paris.', additional_kwargs={}, response_metadata={'model': 'llama3.2:1b', 'created_at': '2025-10-20T14:20:03.356509Z', 'done': True, 'done_reason': 'stop', 'total_duration': 260924334, 'load_duration': 106188292, 'prompt_eval_count': 32, 'prompt_eval_duration': 71193958, 'eval_count': 8, 'eval_duration': 78959542, 'model_name': 'llama3.2:1b', 'model_provider': 'ollama'}, id='lc_run--98ad53aa-6221-4a0c-b00b-0a3baec3aace-0', usage_metadata={'input_tokens': 32, 'output_tokens': 8, 'total_tokens': 40})"
      ]
     },
     "execution_count": 4,
     "metadata": {},
     "output_type": "execute_result"
    }
   ],
   "source": [
    "from langchain_core.prompts import PromptTemplate\n",
    "\n",
    "prompt_template = PromptTemplate(\n",
    "    template=\"What is the capital of {country}?\",\n",
    "    input_variables=[\"country\"],\n",
    ")\n",
    "\n",
    "prompt = prompt_template.invoke({\"country\": \"France\"})\n",
    "\n",
    "print(prompt)\n",
    "\n",
    "llm.invoke(prompt)"
   ]
  },
  {
   "cell_type": "code",
   "execution_count": 9,
   "id": "3fb5cc34",
   "metadata": {},
   "outputs": [
    {
     "data": {
      "text/plain": [
       "AIMessage(content='Paris, the City of Light! It\\'s a world-renowned city known for its stunning architecture, rich history, art museums, fashion, and romantic atmosphere. Here are some interesting facts and things to see in Paris:\\n\\n**Must-visit attractions:**\\n\\n1. The Eiffel Tower: An iconic iron lattice tower that offers breathtaking views of the city.\\n2. The Louvre Museum: Home to the Mona Lisa and many other famous artworks.\\n3. Notre-Dame Cathedral: A beautiful Gothic church that was built in the 12th century.\\n4. Arc de Triomphe: A monumental arch that honors the soldiers who fought and died for France.\\n5. Champs-Élysées: A famous avenue lined with high-end boutiques, cafes, and theaters.\\n\\n**Neighborhoods to explore:**\\n\\n1. Montmartre: A historic, artistic neighborhood known for its narrow streets, charming squares, and stunning views of the city.\\n2. Le Marais: A trendy neighborhood with a mix of upscale boutiques, art galleries, and hip restaurants.\\n3. Belleville: A vibrant neighborhood with a mix of bohemian style, street food, and international cuisine.\\n\\n**Things to do:**\\n\\n1. Take a river cruise along the Seine River to see the city\\'s landmarks from a different perspective.\\n2. Visit the Musée d\\'Orsay, which houses an impressive collection of Impressionist and Post-Impressionist art.\\n3. Explore the Latin Quarter, where you can find charming cafes, bookstores, and street performers.\\n4. Go shopping on the Champs-Élysées or in the upscale boutiques of the Galeries Lafayette department store.\\n\\n**Food and drink:**\\n\\n1. Indulge in French cuisine, which is famous for its rich flavors, intricate preparations, and fine wines.\\n2. Try a classic croissant or baguette at a local bakery.\\n3. Visit a wine bar or champagne cellar to taste some of France\\'s finest vintages.\\n\\n**Tips and tricks:**\\n\\n1. Get familiar with the city\\'s public transportation system, including the métro and buses.\\n2. Learn some basic French phrases, such as \"bonjour\" (hello), \"merci\" (thank you), and \"excusez-moi\" (excuse me).\\n3. Be prepared for crowds and lines at popular attractions.\\n\\nParis is a city that has something for everyone, from art lovers to foodies to history buffs and romantics. It\\'s a place where tradition meets innovation, and where the air is always alive with energy and creativity.', additional_kwargs={}, response_metadata={'model': 'llama3.2:1b', 'created_at': '2025-10-20T14:33:18.365532Z', 'done': True, 'done_reason': 'stop', 'total_duration': 6678687416, 'load_duration': 106123458, 'prompt_eval_count': 63, 'prompt_eval_duration': 78210416, 'eval_count': 529, 'eval_duration': 6233594180, 'model_name': 'llama3.2:1b', 'model_provider': 'ollama'}, id='lc_run--b511e96c-d011-4ace-8294-f43502f9e5ff-0', usage_metadata={'input_tokens': 63, 'output_tokens': 529, 'total_tokens': 592})"
      ]
     },
     "execution_count": 9,
     "metadata": {},
     "output_type": "execute_result"
    }
   ],
   "source": [
    "from langchain_core.messages import HumanMessage, SystemMessage, AIMessage\n",
    "\n",
    "message_list = [\n",
    "    HumanMessage(content=\"What is the capital of France?\"),\n",
    "    SystemMessage(content=\"You are a helpful assistant.\"),\n",
    "    AIMessage(content=\"The capital of France is Paris.\"),\n",
    "    HumanMessage(content=\"Can you tell me more about Paris?\"),\n",
    "]\n",
    "\n",
    "llm.invoke(message_list)"
   ]
  },
  {
   "cell_type": "code",
   "execution_count": 10,
   "id": "d377ee62",
   "metadata": {},
   "outputs": [
    {
     "name": "stdout",
     "output_type": "stream",
     "text": [
      "messages=[SystemMessage(content='You are a helpful assistant.', additional_kwargs={}, response_metadata={}), HumanMessage(content='What is the capital of France?', additional_kwargs={}, response_metadata={})]\n",
      "[SystemMessage(content='You are a helpful assistant.', additional_kwargs={}, response_metadata={}), HumanMessage(content='What is the capital of France?', additional_kwargs={}, response_metadata={})]\n"
     ]
    },
    {
     "data": {
      "text/plain": [
       "AIMessage(content='The capital of France is Paris.', additional_kwargs={}, response_metadata={'model': 'llama3.2:1b', 'created_at': '2025-10-20T14:36:32.437975Z', 'done': True, 'done_reason': 'stop', 'total_duration': 253843875, 'load_duration': 105874875, 'prompt_eval_count': 38, 'prompt_eval_duration': 63263250, 'eval_count': 8, 'eval_duration': 79638750, 'model_name': 'llama3.2:1b', 'model_provider': 'ollama'}, id='lc_run--c3c95908-7243-417a-ab0c-320b0e375bd9-0', usage_metadata={'input_tokens': 38, 'output_tokens': 8, 'total_tokens': 46})"
      ]
     },
     "execution_count": 10,
     "metadata": {},
     "output_type": "execute_result"
    }
   ],
   "source": [
    "from langchain_core.prompts import ChatPromptTemplate\n",
    "\n",
    "chat_prompt_template = ChatPromptTemplate.from_messages([\n",
    "    (\"system\", \"You are a helpful assistant.\" ),\n",
    "    (\"human\", \"What is the capital of {country}?\"),\n",
    "])\n",
    "\n",
    "chat_prompt = chat_prompt_template.invoke({\"country\": \"France\"})\n",
    "\n",
    "print(chat_prompt)\n",
    "print(chat_prompt.messages)\n",
    "llm.invoke(chat_prompt)"
   ]
  },
  {
   "cell_type": "code",
   "execution_count": 6,
   "id": "fe2527c2",
   "metadata": {},
   "outputs": [
    {
     "name": "stdout",
     "output_type": "stream",
     "text": [
      "text='What is the capital of France?'\n"
     ]
    }
   ],
   "source": [
    "from langchain_core.prompts import PromptTemplate\n",
    "from langchain_core.output_parsers import StrOutputParser\n",
    "\n",
    "prompt_template = PromptTemplate(\n",
    "    template=\"What is the capital of {country}?\",\n",
    "    input_variables=[\"country\"],\n",
    ")\n",
    "\n",
    "prompt = prompt_template.invoke({\"country\": \"France\"})\n",
    "\n",
    "print(prompt)\n",
    "\n",
    "ai_message = llm.invoke(prompt_template.invoke({\"country\": \"France\"}))\n",
    "\n",
    "output_parser = StrOutputParser()\n",
    "\n",
    "answer = output_parser.invoke(llm.invoke(prompt_template.invoke({\"country\": \"France\"})))"
   ]
  },
  {
   "cell_type": "code",
   "execution_count": null,
   "id": "ea1e6094",
   "metadata": {},
   "outputs": [],
   "source": []
  },
  {
   "cell_type": "code",
   "execution_count": null,
   "id": "a5baa0b0",
   "metadata": {},
   "outputs": [
    {
     "data": {
      "text/plain": [
       "AIMessage(content='The capital of France is Paris.', additional_kwargs={}, response_metadata={'model': 'llama3.2:1b', 'created_at': '2025-10-20T14:45:36.364931Z', 'done': True, 'done_reason': 'stop', 'total_duration': 291799917, 'load_duration': 104483875, 'prompt_eval_count': 32, 'prompt_eval_duration': 100126583, 'eval_count': 8, 'eval_duration': 82396749, 'model_name': 'llama3.2:1b', 'model_provider': 'ollama'}, id='lc_run--d8bd456a-1756-4f7e-b82b-4fbf8f9712ee-0', usage_metadata={'input_tokens': 32, 'output_tokens': 8, 'total_tokens': 40})"
      ]
     },
     "execution_count": 7,
     "metadata": {},
     "output_type": "execute_result"
    }
   ],
   "source": [
    "ai_message # BaseMessage"
   ]
  },
  {
   "cell_type": "code",
   "execution_count": null,
   "id": "b5eb6d29",
   "metadata": {},
   "outputs": [
    {
     "data": {
      "text/plain": [
       "'The capital of France is Paris.'"
      ]
     },
     "execution_count": 8,
     "metadata": {},
     "output_type": "execute_result"
    }
   ],
   "source": [
    "answer # String"
   ]
  },
  {
   "cell_type": "code",
   "execution_count": 18,
   "id": "b9392845",
   "metadata": {},
   "outputs": [],
   "source": [
    "from pydantic import BaseModel, Field\n",
    "\n",
    "class CapitalDetail(BaseModel):\n",
    "    capital: str = Field(..., description=\"The capital city of the given country.\")\n",
    "    population: int = Field(..., description=\"The population of the capital city.\")\n",
    "    language: str = Field(..., description=\"The primary language spoken in the capital city.\")\n",
    "    currency: str = Field(..., description=\"The currency used in the capital city.\")\n",
    "\n",
    "structured_llm = llm.with_structured_output(CapitalDetail)"
   ]
  },
  {
   "cell_type": "code",
   "execution_count": 19,
   "id": "d4be6b6c",
   "metadata": {},
   "outputs": [],
   "source": [
    "from langchain_core.output_parsers import JsonOutputParser\n",
    "\n",
    "# JSON Output Parser는 쓰지 않는 것이 좋다.\n",
    "country_detail_prompt = PromptTemplate(\n",
    "    template=\"\"\"Give following information about {country}:\n",
    "        - Capital\n",
    "        - Population\n",
    "        - Official Languages\n",
    "        - Currency\n",
    "\n",
    "        return it in JSON format. and return the JSON dictionary only\n",
    "    \"\"\",\n",
    "    input_variables=[\"country\"],\n",
    ")\n",
    "\n",
    "country_detail_prompt.invoke({\"country\": \"France\"})\n",
    "\n",
    "# output_parser = JsonOutputParser()\n",
    "\n",
    "json_ai_message = structured_llm.invoke(country_detail_prompt.invoke({\"country\": \"France\"})) \n",
    "\n",
    "# output_parser.invoke(json_ai_message) "
   ]
  },
  {
   "cell_type": "code",
   "execution_count": 21,
   "id": "eee4c950",
   "metadata": {},
   "outputs": [
    {
     "data": {
      "text/plain": [
       "CapitalDetail(capital='Paris', population=67, language='French', currency='Euro')"
      ]
     },
     "execution_count": 21,
     "metadata": {},
     "output_type": "execute_result"
    }
   ],
   "source": [
    "json_ai_message"
   ]
  }
 ],
 "metadata": {
  "kernelspec": {
   "display_name": "3.11.14",
   "language": "python",
   "name": "python3"
  },
  "language_info": {
   "codemirror_mode": {
    "name": "ipython",
    "version": 3
   },
   "file_extension": ".py",
   "mimetype": "text/x-python",
   "name": "python",
   "nbconvert_exporter": "python",
   "pygments_lexer": "ipython3",
   "version": "3.11.14"
  }
 },
 "nbformat": 4,
 "nbformat_minor": 5
}
