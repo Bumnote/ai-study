{
 "cells": [
  {
   "cell_type": "code",
   "execution_count": 5,
   "id": "32079102",
   "metadata": {},
   "outputs": [
    {
     "data": {
      "text/plain": [
       "AIMessage(content='The capital of France is Paris.', additional_kwargs={}, response_metadata={'model': 'llama3.2:1b', 'created_at': '2025-10-20T15:11:49.999179Z', 'done': True, 'done_reason': 'stop', 'total_duration': 1742922875, 'load_duration': 1481642750, 'prompt_eval_count': 32, 'prompt_eval_duration': 177593250, 'eval_count': 8, 'eval_duration': 78104959, 'model_name': 'llama3.2:1b', 'model_provider': 'ollama'}, id='lc_run--612e2fca-ea7d-43a6-ac1d-05c99ebd72a5-0', usage_metadata={'input_tokens': 32, 'output_tokens': 8, 'total_tokens': 40})"
      ]
     },
     "execution_count": 5,
     "metadata": {},
     "output_type": "execute_result"
    }
   ],
   "source": [
    "from langchain_ollama import ChatOllama\n",
    "\n",
    "llm = ChatOllama(model=\"llama3.2:1b\")\n",
    "llm.invoke(\"What is the capital of France?\")"
   ]
  },
  {
   "cell_type": "code",
   "execution_count": 6,
   "id": "ab43bb93",
   "metadata": {},
   "outputs": [
    {
     "name": "stdout",
     "output_type": "stream",
     "text": [
      "text='What is the capital of France?'\n"
     ]
    }
   ],
   "source": [
    "from langchain_core.prompts import PromptTemplate\n",
    "\n",
    "prompt_template = PromptTemplate(\n",
    "    template=\"What is the capital of {country}?\",\n",
    "    input_variables=[\"country\"],\n",
    ")\n",
    "\n",
    "prompt = prompt_template.invoke({\"country\": \"France\"})\n",
    "\n",
    "print(prompt)"
   ]
  },
  {
   "cell_type": "code",
   "execution_count": 7,
   "id": "e85892c7",
   "metadata": {},
   "outputs": [
    {
     "name": "stdout",
     "output_type": "stream",
     "text": [
      "text='What is the capital of France?'\n"
     ]
    },
    {
     "data": {
      "text/plain": [
       "AIMessage(content='The capital of France is Paris.', additional_kwargs={}, response_metadata={'model': 'llama3.2:1b', 'created_at': '2025-10-20T15:11:50.234174Z', 'done': True, 'done_reason': 'stop', 'total_duration': 198878209, 'load_duration': 105411875, 'prompt_eval_count': 32, 'prompt_eval_duration': 11975458, 'eval_count': 8, 'eval_duration': 77015667, 'model_name': 'llama3.2:1b', 'model_provider': 'ollama'}, id='lc_run--6e2b7ac7-6b5b-4399-a6de-208b3916f90b-0', usage_metadata={'input_tokens': 32, 'output_tokens': 8, 'total_tokens': 40})"
      ]
     },
     "execution_count": 7,
     "metadata": {},
     "output_type": "execute_result"
    }
   ],
   "source": [
    "from langchain_core.prompts import PromptTemplate\n",
    "\n",
    "prompt_template = PromptTemplate(\n",
    "    template=\"What is the capital of {country}?\",\n",
    "    input_variables=[\"country\"],\n",
    ")\n",
    "\n",
    "prompt = prompt_template.invoke({\"country\": \"France\"})\n",
    "\n",
    "print(prompt)\n",
    "\n",
    "llm.invoke(prompt)"
   ]
  },
  {
   "cell_type": "code",
   "execution_count": 8,
   "id": "3fb5cc34",
   "metadata": {},
   "outputs": [
    {
     "data": {
      "text/plain": [
       "AIMessage(content='Paris, the City of Light. It\\'s a vibrant and iconic city located in Western Europe, known for its stunning architecture, rich history, art museums, fashion, and cuisine. Here are some interesting facts and things to see in Paris:\\n\\n**Must-visit attractions:**\\n\\n1. The Eiffel Tower (La Tour Eiffel): A iron lattice tower built for the 1889 World\\'s Fair, now a symbol of Paris.\\n2. The Louvre Museum (Musée du Louvre): One of the world\\'s largest and most famous museums, housing an impressive collection of art and artifacts, including the Mona Lisa.\\n3. Notre-Dame Cathedral (Cathédrale Notre-Dame de Paris): A beautiful Gothic cathedral that was built in the 12th century and has been a symbol of Paris for centuries.\\n4. Arc de Triomphe: A majestic arch honoring the soldiers who fought and died for France, with stunning views of the city from its top.\\n5. Montmartre: A charming neighborhood known for its bohemian vibe, street artists, and breathtaking views of the city.\\n\\n**Other interesting places to visit:**\\n\\n1. Palace of Versailles (Château de Versailles): A former royal palace with opulent decor, gardens, and fountain shows.\\n2. Champs-Élysées: A famous avenue lined with cafes, restaurants, and shops, perfect for people-watching.\\n3. Seine River: A scenic river that runs through the heart of Paris, offering boat tours and stunning views.\\n4. Musée d\\'Orsay: A museum housing a collection of Impressionist and Post-Impressionist art, including works by Monet, Renoir, and Van Gogh.\\n\\n**Food and drink:**\\n\\n1. French cuisine: Try classic dishes like escargots, coq au vin, and croissants.\\n2. Wine: France is famous for its wine production, with many regions offering wine tastings and tours.\\n3. Pastries: Visit a charming patisserie or bakery to sample traditional French desserts like macarons, madeleines, and croissants.\\n\\n**Tips and insights:**\\n\\n1. Learn some basic French phrases, such as \"bonjour\" (hello), \"merci\" (thank you), and \"excusez-moi\" (excuse me).\\n2. Be prepared for crowds and lines at popular attractions.\\n3. Take a stroll through the city to discover hidden gems and local spots.\\n4. Don\\'t be afraid to try new foods and drinks, even if they\\'re not traditional French cuisine.\\n\\nI hope this gives you a good starting point for exploring Paris!', additional_kwargs={}, response_metadata={'model': 'llama3.2:1b', 'created_at': '2025-10-20T15:11:56.90685Z', 'done': True, 'done_reason': 'stop', 'total_duration': 6661359459, 'load_duration': 89370334, 'prompt_eval_count': 63, 'prompt_eval_duration': 39446584, 'eval_count': 544, 'eval_duration': 6268063052, 'model_name': 'llama3.2:1b', 'model_provider': 'ollama'}, id='lc_run--e0ae103d-5fc5-4b51-82db-3a209de47523-0', usage_metadata={'input_tokens': 63, 'output_tokens': 544, 'total_tokens': 607})"
      ]
     },
     "execution_count": 8,
     "metadata": {},
     "output_type": "execute_result"
    }
   ],
   "source": [
    "from langchain_core.messages import HumanMessage, SystemMessage, AIMessage\n",
    "\n",
    "message_list = [\n",
    "    HumanMessage(content=\"What is the capital of France?\"),\n",
    "    SystemMessage(content=\"You are a helpful assistant.\"),\n",
    "    AIMessage(content=\"The capital of France is Paris.\"),\n",
    "    HumanMessage(content=\"Can you tell me more about Paris?\"),\n",
    "]\n",
    "\n",
    "llm.invoke(message_list)"
   ]
  },
  {
   "cell_type": "code",
   "execution_count": 9,
   "id": "d377ee62",
   "metadata": {},
   "outputs": [
    {
     "name": "stdout",
     "output_type": "stream",
     "text": [
      "messages=[SystemMessage(content='You are a helpful assistant.', additional_kwargs={}, response_metadata={}), HumanMessage(content='What is the capital of France?', additional_kwargs={}, response_metadata={})]\n",
      "[SystemMessage(content='You are a helpful assistant.', additional_kwargs={}, response_metadata={}), HumanMessage(content='What is the capital of France?', additional_kwargs={}, response_metadata={})]\n"
     ]
    },
    {
     "data": {
      "text/plain": [
       "AIMessage(content='The capital of France is Paris.', additional_kwargs={}, response_metadata={'model': 'llama3.2:1b', 'created_at': '2025-10-20T15:11:57.135685Z', 'done': True, 'done_reason': 'stop', 'total_duration': 189465625, 'load_duration': 93640541, 'prompt_eval_count': 38, 'prompt_eval_duration': 12322250, 'eval_count': 8, 'eval_duration': 78329875, 'model_name': 'llama3.2:1b', 'model_provider': 'ollama'}, id='lc_run--ebfa1432-55b9-479d-8351-0c42a06a8fa3-0', usage_metadata={'input_tokens': 38, 'output_tokens': 8, 'total_tokens': 46})"
      ]
     },
     "execution_count": 9,
     "metadata": {},
     "output_type": "execute_result"
    }
   ],
   "source": [
    "from langchain_core.prompts import ChatPromptTemplate\n",
    "\n",
    "chat_prompt_template = ChatPromptTemplate.from_messages([\n",
    "    (\"system\", \"You are a helpful assistant.\" ),\n",
    "    (\"human\", \"What is the capital of {country}?\"),\n",
    "])\n",
    "\n",
    "chat_prompt = chat_prompt_template.invoke({\"country\": \"France\"})\n",
    "\n",
    "print(chat_prompt)\n",
    "print(chat_prompt.messages)\n",
    "llm.invoke(chat_prompt)"
   ]
  },
  {
   "cell_type": "code",
   "execution_count": 10,
   "id": "fe2527c2",
   "metadata": {},
   "outputs": [
    {
     "name": "stdout",
     "output_type": "stream",
     "text": [
      "text='What is the capital of France?'\n"
     ]
    }
   ],
   "source": [
    "from langchain_core.prompts import PromptTemplate\n",
    "from langchain_core.output_parsers import StrOutputParser\n",
    "\n",
    "prompt_template = PromptTemplate(\n",
    "    template=\"What is the capital of {country}?\",\n",
    "    input_variables=[\"country\"],\n",
    ")\n",
    "\n",
    "prompt = prompt_template.invoke({\"country\": \"France\"})\n",
    "\n",
    "print(prompt)\n",
    "\n",
    "ai_message = llm.invoke(prompt_template.invoke({\"country\": \"France\"}))\n",
    "\n",
    "output_parser = StrOutputParser()\n",
    "\n",
    "answer = output_parser.invoke(llm.invoke(prompt_template.invoke({\"country\": \"France\"})))"
   ]
  },
  {
   "cell_type": "code",
   "execution_count": null,
   "id": "ea1e6094",
   "metadata": {},
   "outputs": [],
   "source": []
  },
  {
   "cell_type": "code",
   "execution_count": 11,
   "id": "a5baa0b0",
   "metadata": {},
   "outputs": [
    {
     "data": {
      "text/plain": [
       "AIMessage(content='The capital of France is Paris.', additional_kwargs={}, response_metadata={'model': 'llama3.2:1b', 'created_at': '2025-10-20T15:11:57.355995Z', 'done': True, 'done_reason': 'stop', 'total_duration': 197699584, 'load_duration': 90034250, 'prompt_eval_count': 32, 'prompt_eval_duration': 25820750, 'eval_count': 8, 'eval_duration': 77296667, 'model_name': 'llama3.2:1b', 'model_provider': 'ollama'}, id='lc_run--d5c5d472-2aca-40ee-94f2-c9859772e1fd-0', usage_metadata={'input_tokens': 32, 'output_tokens': 8, 'total_tokens': 40})"
      ]
     },
     "execution_count": 11,
     "metadata": {},
     "output_type": "execute_result"
    }
   ],
   "source": [
    "ai_message # BaseMessage"
   ]
  },
  {
   "cell_type": "code",
   "execution_count": 12,
   "id": "b5eb6d29",
   "metadata": {},
   "outputs": [
    {
     "data": {
      "text/plain": [
       "'The capital of France is Paris.'"
      ]
     },
     "execution_count": 12,
     "metadata": {},
     "output_type": "execute_result"
    }
   ],
   "source": [
    "answer # String"
   ]
  },
  {
   "cell_type": "code",
   "execution_count": 13,
   "id": "b9392845",
   "metadata": {},
   "outputs": [],
   "source": [
    "from pydantic import BaseModel, Field\n",
    "\n",
    "class CapitalDetail(BaseModel):\n",
    "    capital: str = Field(..., description=\"The capital city of the given country.\")\n",
    "    population: int = Field(..., description=\"The population of the capital city.\")\n",
    "    language: str = Field(..., description=\"The primary language spoken in the capital city.\")\n",
    "    currency: str = Field(..., description=\"The currency used in the capital city.\")\n",
    "\n",
    "structured_llm = llm.with_structured_output(CapitalDetail)"
   ]
  },
  {
   "cell_type": "code",
   "execution_count": 14,
   "id": "d4be6b6c",
   "metadata": {},
   "outputs": [],
   "source": [
    "from langchain_core.output_parsers import JsonOutputParser\n",
    "\n",
    "# JSON Output Parser는 쓰지 않는 것이 좋다.\n",
    "country_detail_prompt = PromptTemplate(\n",
    "    template=\"\"\"Give following information about {country}:\n",
    "        - Capital\n",
    "        - Population\n",
    "        - Official Languages\n",
    "        - Currency\n",
    "\n",
    "        return it in JSON format. and return the JSON dictionary only\n",
    "    \"\"\",\n",
    "    input_variables=[\"country\"],\n",
    ")\n",
    "\n",
    "country_detail_prompt.invoke({\"country\": \"France\"})\n",
    "\n",
    "# output_parser = JsonOutputParser()\n",
    "\n",
    "json_ai_message = structured_llm.invoke(country_detail_prompt.invoke({\"country\": \"France\"})) \n",
    "\n",
    "# output_parser.invoke(json_ai_message) "
   ]
  },
  {
   "cell_type": "code",
   "execution_count": 17,
   "id": "eee4c950",
   "metadata": {},
   "outputs": [],
   "source": [
    "capital_chain = prompt_template | llm | output_parser"
   ]
  },
  {
   "cell_type": "code",
   "execution_count": 18,
   "id": "a5316592",
   "metadata": {},
   "outputs": [
    {
     "data": {
      "text/plain": [
       "'The capital of France is Paris.'"
      ]
     },
     "execution_count": 18,
     "metadata": {},
     "output_type": "execute_result"
    }
   ],
   "source": [
    "capital_chain.invoke({\"country\": \"France\"})"
   ]
  },
  {
   "cell_type": "code",
   "execution_count": 29,
   "id": "7e581795",
   "metadata": {},
   "outputs": [
    {
     "data": {
      "text/plain": [
       "'Italy.'"
      ]
     },
     "execution_count": 29,
     "metadata": {},
     "output_type": "execute_result"
    }
   ],
   "source": [
    "country_prompt = PromptTemplate(\n",
    "    template=\"\"\"Guess the name of the country based on the following information\":\n",
    "    {information}\n",
    "    Return the name of the country only.\n",
    "    \"\"\",\n",
    "    input_variables=[\"information\"],\n",
    ")\n",
    "\n",
    "country_chain = country_prompt | llm | output_parser\n",
    "country_chain.invoke({\"information\": \"This country is very famous for its wine in Europe.\"})"
   ]
  },
  {
   "cell_type": "code",
   "execution_count": 30,
   "id": "4ddc49a6",
   "metadata": {},
   "outputs": [],
   "source": [
    "final_chain = {\"country\": country_chain} | capital_chain\n"
   ]
  },
  {
   "cell_type": "code",
   "execution_count": 31,
   "id": "16b0f19c",
   "metadata": {},
   "outputs": [
    {
     "data": {
      "text/plain": [
       "'The capital of Italy is Rome.'"
      ]
     },
     "execution_count": 31,
     "metadata": {},
     "output_type": "execute_result"
    }
   ],
   "source": [
    "final_chain.invoke({\"information\": \"This country is very famous for its wine in Europe.\"})"
   ]
  },
  {
   "cell_type": "code",
   "execution_count": 32,
   "id": "34364969",
   "metadata": {},
   "outputs": [],
   "source": [
    "from langchain_core.runnables import RunnablePassthrough\n",
    "\n",
    "final_chain = {\"information\": RunnablePassthrough()} | {\"country\": country_chain} | capital_chain"
   ]
  },
  {
   "cell_type": "code",
   "execution_count": 33,
   "id": "3d755f56",
   "metadata": {},
   "outputs": [
    {
     "data": {
      "text/plain": [
       "'The capital of Italy is Rome.'"
      ]
     },
     "execution_count": 33,
     "metadata": {},
     "output_type": "execute_result"
    }
   ],
   "source": [
    "final_chain.invoke(\"This country is veryt famous for its wine in Europe.\")"
   ]
  },
  {
   "cell_type": "code",
   "execution_count": null,
   "id": "5d58b695",
   "metadata": {},
   "outputs": [],
   "source": []
  }
 ],
 "metadata": {
  "kernelspec": {
   "display_name": "3.11.14",
   "language": "python",
   "name": "python3"
  },
  "language_info": {
   "codemirror_mode": {
    "name": "ipython",
    "version": 3
   },
   "file_extension": ".py",
   "mimetype": "text/x-python",
   "name": "python",
   "nbconvert_exporter": "python",
   "pygments_lexer": "ipython3",
   "version": "3.11.14"
  }
 },
 "nbformat": 4,
 "nbformat_minor": 5
}
